{
 "cells": [
  {
   "cell_type": "code",
   "execution_count": 61,
   "metadata": {},
   "outputs": [],
   "source": [
    "class Stock():\n",
    "    \n",
    "    investmentType = 'Stock'\n",
    "    def __init__(self,name, stockType, price):\n",
    "        self.name = name\n",
    "        self.stockType = stockType\n",
    "        self.price = int(price)\n",
    "        \n",
    "    def announce(self):\n",
    "        print('Hello, my name is {}, I am a {}, and my price is ${}.'.format(self.name,self.stockType, self.price))\n",
    "        \n",
    "    def getPrice(self, amount_of_stock):\n",
    "        return(\"Your price is ${}\" .format(self.price * amount_of_stock))\n",
    "        "
   ]
  },
  {
   "cell_type": "code",
   "execution_count": 65,
   "metadata": {},
   "outputs": [],
   "source": [
    "my_stock = Stock('Apple', 'Individual Stock', 192.49)\n",
    "my_stock1 = Stock('IBM', 'Individual Stock', 12.49)\n"
   ]
  },
  {
   "cell_type": "code",
   "execution_count": 66,
   "metadata": {},
   "outputs": [
    {
     "name": "stdout",
     "output_type": "stream",
     "text": [
      "Hello, my name is Apple, I am a Individual Stock, and my price is $192.\n",
      "Hello, my name is IBM, I am a Individual Stock, and my price is $12.\n"
     ]
    }
   ],
   "source": [
    "my_stock.announce()\n",
    "my_stock1.announce()"
   ]
  },
  {
   "cell_type": "code",
   "execution_count": 60,
   "metadata": {},
   "outputs": [
    {
     "data": {
      "text/plain": [
       "'Your price is $576'"
      ]
     },
     "execution_count": 60,
     "metadata": {},
     "output_type": "execute_result"
    }
   ],
   "source": [
    "my_stock.getPrice(3)"
   ]
  }
 ],
 "metadata": {
  "kernelspec": {
   "display_name": "Python 3",
   "language": "python",
   "name": "python3"
  },
  "language_info": {
   "codemirror_mode": {
    "name": "ipython",
    "version": 3
   },
   "file_extension": ".py",
   "mimetype": "text/x-python",
   "name": "python",
   "nbconvert_exporter": "python",
   "pygments_lexer": "ipython3",
   "version": "3.11.7"
  }
 },
 "nbformat": 4,
 "nbformat_minor": 2
}
